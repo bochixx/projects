{
 "cells": [
  {
   "cell_type": "code",
   "execution_count": 1,
   "id": "607d5881",
   "metadata": {},
   "outputs": [],
   "source": [
    "import pandas as pd\n",
    "import matplotlib.pyplot as plt\n",
    "import numpy as np\n",
    "import tensorflow as tf\n",
    "from sklearn.preprocessing import MinMaxScaler\n",
    "from scipy.stats import entropy"
   ]
  },
  {
   "cell_type": "code",
   "execution_count": 3,
   "id": "69d6adbf",
   "metadata": {},
   "outputs": [
    {
     "name": "stdout",
     "output_type": "stream",
     "text": [
      "\n",
      "Processing index 0 for gesture 'forehand'.\n",
      "\tFile Shape: (3000, 11)\n",
      "\tColumns: ['counter', 'aX', 'aY', 'aZ', 'gX', 'gY', 'gZ', 'mX', 'mY', 'mZ', 'label']\n",
      "\tThere are 100 recordings of the forehand gesture.\n",
      "\n",
      "Processing index 1 for gesture 'backhand'.\n",
      "\tFile Shape: (3000, 11)\n",
      "\tColumns: ['Counter', 'aX', 'aY', 'aZ', 'gX', 'gY', 'gZ', 'mX', 'mY', 'mZ', 'label']\n",
      "\tThere are 100 recordings of the backhand gesture.\n",
      "\n",
      "Processing index 2 for gesture 'idle'.\n",
      "\tFile Shape: (3000, 11)\n",
      "\tColumns: ['Counter', 'aX', 'aY', 'aZ', 'gX', 'gY', 'gZ', 'mX', 'mY', 'mZ', 'label']\n",
      "\tThere are 100 recordings of the idle gesture.\n",
      "\n",
      "Final Data Shapes:\n",
      "\tInputs Shape: (300, 30, 9)\n",
      "\tOutputs Shape: (300,)\n"
     ]
    }
   ],
   "source": [
    "SEED = 50\n",
    "np.random.seed(SEED)\n",
    "tf.random.set_seed(SEED)\n",
    "\n",
    "GESTURES = [\"forehand\", \"backhand\", \"idle\"]\n",
    "SAMPLES_PER_GESTURE = 30\n",
    "NUM_GESTURES = len(GESTURES)\n",
    "\n",
    "inputs = []\n",
    "outputs = []\n",
    "\n",
    "for gesture_index, gesture in enumerate(GESTURES):\n",
    "    print(f\"\\nProcessing index {gesture_index} for gesture '{gesture}'.\")\n",
    "\n",
    "    df = pd.read_csv(f\"./TT_DataCollector/{gesture}.csv\")\n",
    "\n",
    "    print(f\"\\tFile Shape: {df.shape}\")\n",
    "    print(f\"\\tColumns: {df.columns.tolist()}\")\n",
    "\n",
    "    required_columns = ['aX', 'aY', 'aZ', 'gX', 'gY', 'gZ', 'mX', 'mY', 'mZ']\n",
    "    if not all(col in df.columns for col in required_columns):\n",
    "        continue\n",
    "\n",
    "    num_recordings = df.shape[0] // SAMPLES_PER_GESTURE\n",
    "    print(f\"\\tThere are {num_recordings} recordings of the {gesture} gesture.\")\n",
    "    \n",
    "    for i in range(num_recordings):\n",
    "        index = i * SAMPLES_PER_GESTURE\n",
    "\n",
    "        if index + SAMPLES_PER_GESTURE > df.shape[0]:\n",
    "            continue\n",
    "\n",
    "        X = df['aX'][index: index + SAMPLES_PER_GESTURE].values\n",
    "        Y = df['aY'][index: index + SAMPLES_PER_GESTURE].values\n",
    "        Z = df['aZ'][index: index + SAMPLES_PER_GESTURE].values\n",
    "\n",
    "        gX = df['gX'][index: index + SAMPLES_PER_GESTURE].values\n",
    "        gY = df['gY'][index: index + SAMPLES_PER_GESTURE].values\n",
    "        gZ = df['gZ'][index: index + SAMPLES_PER_GESTURE].values\n",
    "\n",
    "        mX = df['mX'][index: index + SAMPLES_PER_GESTURE].values\n",
    "        mY = df['mY'][index: index + SAMPLES_PER_GESTURE].values\n",
    "        mZ = df['mZ'][index: index + SAMPLES_PER_GESTURE].values\n",
    "        \n",
    "        tensor = np.vstack((X, Y, Z, gX, gY, gZ, mX, mY, mZ)).transpose()\n",
    "\n",
    "        inputs.append(tensor)\n",
    "        outputs.append(gesture_index)\n",
    "\n",
    "inputs = np.array(inputs)\n",
    "outputs = np.array(outputs)\n",
    "\n",
    "print(\"\\nFinal Data Shapes:\")\n",
    "print(f\"\\tInputs Shape: {inputs.shape}\")\n",
    "print(f\"\\tOutputs Shape: {outputs.shape}\")\n"
   ]
  },
  {
   "cell_type": "code",
   "execution_count": 4,
   "id": "c0d7aee6",
   "metadata": {},
   "outputs": [
    {
     "name": "stdout",
     "output_type": "stream",
     "text": [
      "Data set randomization and splitting complete. inputs_train.shape=(180, 30, 9), outputs_train.shape=(180,)\n"
     ]
    }
   ],
   "source": [
    "num_inputs = len(inputs)\n",
    "randomize = np.arange(num_inputs)\n",
    "np.random.shuffle(randomize)\n",
    "\n",
    "inputs = inputs[randomize]\n",
    "outputs = outputs[randomize]\n",
    "\n",
    "TRAIN_SPLIT = int(0.6 * num_inputs)\n",
    "TEST_SPLIT = int(0.2 * num_inputs + TRAIN_SPLIT)\n",
    "\n",
    "inputs_train, inputs_test, inputs_validate = np.split(inputs, [TRAIN_SPLIT, TEST_SPLIT])\n",
    "outputs_train, outputs_test, outputs_validate = np.split(outputs, [TRAIN_SPLIT, TEST_SPLIT])\n",
    "\n",
    "print(\"Data set randomization and splitting complete.\", f\"{inputs_train.shape=}, {outputs_train.shape=}\")"
   ]
  },
  {
   "cell_type": "code",
   "execution_count": 5,
   "id": "f4781ebb-a93f-4012-a580-78aa31ecd00f",
   "metadata": {},
   "outputs": [
    {
     "name": "stdout",
     "output_type": "stream",
     "text": [
      "Model: \"sequential\"\n",
      "_________________________________________________________________\n",
      " Layer (type)                Output Shape              Param #   \n",
      "=================================================================\n",
      " global_max_pooling1d (Glob  (None, 9)                 0         \n",
      " alMaxPooling1D)                                                 \n",
      "                                                                 \n",
      " dense (Dense)               (None, 32)                320       \n",
      "                                                                 \n",
      " dense_1 (Dense)             (None, 3)                 99        \n",
      "                                                                 \n",
      "=================================================================\n",
      "Total params: 419 (1.64 KB)\n",
      "Trainable params: 419 (1.64 KB)\n",
      "Non-trainable params: 0 (0.00 Byte)\n",
      "_________________________________________________________________\n"
     ]
    }
   ],
   "source": [
    "model = tf.keras.Sequential([\n",
    "    tf.keras.Input(shape=inputs_train.shape[1:], name='input'),\n",
    "    tf.keras.layers.GlobalMaxPool1D(data_format='channels_last', name='global_max_pooling1d'),\n",
    "    tf.keras.layers.Dense(32, activation='relu'),\n",
    "    tf.keras.layers.Dense(NUM_GESTURES, activation='softmax')\n",
    "])\n",
    "\n",
    "optimizer = tf.keras.optimizers.Adam(learning_rate=0.005)\n",
    "model.compile(\n",
    "    optimizer=optimizer,\n",
    "    loss=tf.keras.losses.SparseCategoricalCrossentropy(),\n",
    "    metrics=['accuracy']\n",
    ")\n",
    "model.summary()"
   ]
  },
  {
   "cell_type": "code",
   "execution_count": 7,
   "id": "64b29a4b-a84d-4380-9a0e-c4c1f389fba4",
   "metadata": {},
   "outputs": [
    {
     "name": "stdout",
     "output_type": "stream",
     "text": [
      "Epoch 1/30\n",
      "6/6 [==============================] - 1s 36ms/step - loss: 6.8591 - accuracy: 0.5611 - val_loss: 1.3279 - val_accuracy: 0.8167\n",
      "Epoch 2/30\n",
      "6/6 [==============================] - 0s 7ms/step - loss: 1.8655 - accuracy: 0.8278 - val_loss: 0.7860 - val_accuracy: 0.9333\n",
      "Epoch 3/30\n",
      "6/6 [==============================] - 0s 7ms/step - loss: 1.0432 - accuracy: 0.9333 - val_loss: 0.9214 - val_accuracy: 0.9500\n",
      "Epoch 4/30\n",
      "6/6 [==============================] - 0s 7ms/step - loss: 0.6203 - accuracy: 0.9611 - val_loss: 1.0730 - val_accuracy: 0.9500\n",
      "Epoch 5/30\n",
      "6/6 [==============================] - 0s 7ms/step - loss: 0.3679 - accuracy: 0.9778 - val_loss: 1.2231 - val_accuracy: 0.9500\n",
      "Epoch 6/30\n",
      "6/6 [==============================] - 0s 12ms/step - loss: 0.2609 - accuracy: 0.9722 - val_loss: 1.2680 - val_accuracy: 0.9500\n",
      "Epoch 7/30\n",
      "6/6 [==============================] - 0s 6ms/step - loss: 0.1969 - accuracy: 0.9667 - val_loss: 1.1582 - val_accuracy: 0.9500\n",
      "Epoch 8/30\n",
      "6/6 [==============================] - 0s 7ms/step - loss: 0.1207 - accuracy: 0.9722 - val_loss: 1.0503 - val_accuracy: 0.9500\n",
      "Epoch 9/30\n",
      "6/6 [==============================] - 0s 6ms/step - loss: 0.1511 - accuracy: 0.9778 - val_loss: 0.9874 - val_accuracy: 0.9500\n",
      "Epoch 10/30\n",
      "6/6 [==============================] - 0s 6ms/step - loss: 0.1107 - accuracy: 0.9833 - val_loss: 0.9663 - val_accuracy: 0.9500\n",
      "Epoch 11/30\n",
      "6/6 [==============================] - 0s 7ms/step - loss: 0.0898 - accuracy: 0.9889 - val_loss: 0.9391 - val_accuracy: 0.9500\n",
      "Epoch 12/30\n",
      "6/6 [==============================] - 0s 6ms/step - loss: 0.0759 - accuracy: 0.9833 - val_loss: 0.8903 - val_accuracy: 0.9500\n",
      "Epoch 13/30\n",
      "6/6 [==============================] - 0s 6ms/step - loss: 0.0570 - accuracy: 0.9889 - val_loss: 0.8535 - val_accuracy: 0.9667\n",
      "Epoch 14/30\n",
      "6/6 [==============================] - 0s 7ms/step - loss: 0.0720 - accuracy: 0.9833 - val_loss: 0.8273 - val_accuracy: 0.9667\n",
      "Epoch 15/30\n",
      "6/6 [==============================] - 0s 7ms/step - loss: 0.0545 - accuracy: 0.9944 - val_loss: 0.8123 - val_accuracy: 0.9667\n",
      "Epoch 16/30\n",
      "6/6 [==============================] - 0s 6ms/step - loss: 0.0534 - accuracy: 0.9944 - val_loss: 0.8018 - val_accuracy: 0.9667\n",
      "Epoch 17/30\n",
      "6/6 [==============================] - 0s 7ms/step - loss: 0.0467 - accuracy: 0.9944 - val_loss: 0.7947 - val_accuracy: 0.9667\n",
      "Epoch 18/30\n",
      "6/6 [==============================] - 0s 6ms/step - loss: 0.0346 - accuracy: 0.9944 - val_loss: 0.7900 - val_accuracy: 0.9667\n",
      "Epoch 19/30\n",
      "6/6 [==============================] - 0s 6ms/step - loss: 0.0198 - accuracy: 0.9944 - val_loss: 0.7864 - val_accuracy: 0.9667\n",
      "Epoch 20/30\n",
      "6/6 [==============================] - 0s 7ms/step - loss: 0.0139 - accuracy: 0.9944 - val_loss: 0.7817 - val_accuracy: 0.9667\n",
      "Epoch 21/30\n",
      "6/6 [==============================] - 0s 7ms/step - loss: 0.0105 - accuracy: 0.9944 - val_loss: 0.7731 - val_accuracy: 0.9667\n",
      "Epoch 22/30\n",
      "6/6 [==============================] - 0s 7ms/step - loss: 0.0076 - accuracy: 0.9944 - val_loss: 0.7653 - val_accuracy: 0.9667\n",
      "Epoch 23/30\n",
      "6/6 [==============================] - 0s 8ms/step - loss: 0.0053 - accuracy: 0.9944 - val_loss: 0.7607 - val_accuracy: 0.9667\n",
      "Epoch 24/30\n",
      "6/6 [==============================] - 0s 6ms/step - loss: 0.0025 - accuracy: 1.0000 - val_loss: 0.7550 - val_accuracy: 0.9667\n",
      "Epoch 25/30\n",
      "6/6 [==============================] - 0s 6ms/step - loss: 0.0026 - accuracy: 1.0000 - val_loss: 0.7504 - val_accuracy: 0.9667\n",
      "Epoch 26/30\n",
      "6/6 [==============================] - 0s 7ms/step - loss: 0.0022 - accuracy: 1.0000 - val_loss: 0.7467 - val_accuracy: 0.9667\n",
      "Epoch 27/30\n",
      "6/6 [==============================] - 0s 9ms/step - loss: 0.0030 - accuracy: 1.0000 - val_loss: 0.7487 - val_accuracy: 0.9667\n",
      "Epoch 28/30\n",
      "6/6 [==============================] - 0s 9ms/step - loss: 0.0023 - accuracy: 1.0000 - val_loss: 0.7539 - val_accuracy: 0.9667\n",
      "Epoch 29/30\n",
      "6/6 [==============================] - 0s 7ms/step - loss: 0.0016 - accuracy: 1.0000 - val_loss: 0.7562 - val_accuracy: 0.9667\n",
      "Epoch 30/30\n",
      "6/6 [==============================] - 0s 6ms/step - loss: 0.0015 - accuracy: 1.0000 - val_loss: 0.7552 - val_accuracy: 0.9667\n"
     ]
    }
   ],
   "source": [
    "history = model.fit(\n",
    "    x=inputs_train,\n",
    "    y=outputs_train,\n",
    "    validation_data=[inputs_validate, outputs_validate],\n",
    "    batch_size=32,\n",
    "    shuffle=True,\n",
    "    epochs=30\n",
    ")"
   ]
  },
  {
   "cell_type": "code",
   "execution_count": 8,
   "id": "44b67d62-cf63-4ff5-9689-8dd254f82343",
   "metadata": {},
   "outputs": [
    {
     "data": {
      "image/png": "[encoded data removed]",
      "text/plain": [
       "<Figure size 800x600 with 1 Axes>"
      ]
     },
     "metadata": {},
     "output_type": "display_data"
    },
    {
     "data": {
      "image/png": "[encoded data removed]",
      "text/plain": [
       "<Figure size 800x600 with 1 Axes>"
      ]
     },
     "metadata": {},
     "output_type": "display_data"
    }
   ],
   "source": [
    "def plot_train_val_statistics(training_statistics, validation_statistics, statistics_name='accuracy'):\n",
    "    plt.figure(figsize=(8, 6))\n",
    "    plt.plot(training_statistics)\n",
    "    plt.plot(validation_statistics)\n",
    "    plt.title(statistics_name)\n",
    "    plt.ylabel(statistics_name)\n",
    "    plt.xlabel('epoch')\n",
    "    plt.legend(['train', 'val'], loc='upper left')\n",
    "    plt.show()\n",
    "\n",
    "plot_train_val_statistics(history.history['accuracy'], history.history['val_accuracy'], 'accuracy')\n",
    "plot_train_val_statistics(history.history['loss'], history.history['val_loss'], 'loss')"
   ]
  },
  {
   "cell_type": "code",
   "execution_count": 9,
   "id": "853ef968-9d4c-4de8-a3af-c4a49a0575a1",
   "metadata": {},
   "outputs": [
    {
     "name": "stdout",
     "output_type": "stream",
     "text": [
      "2/2 [==============================] - 0s 4ms/step - loss: 0.0037 - accuracy: 1.0000\n",
      "loss=0.00369  accuracy=1.00000  \n"
     ]
    }
   ],
   "source": [
    "# Results on the test set\n",
    "performance = model.evaluate(x=inputs_test, y=outputs_test)\n",
    "print(''.join([f\"{name}={value:.05f}  \" for name, value in zip(model.metrics_names, performance)]))"
   ]
  },
  {
   "cell_type": "code",
   "execution_count": 10,
   "id": "cf16b32b-4ebc-470f-93f0-b337477d20cb",
   "metadata": {},
   "outputs": [
    {
     "name": "stdout",
     "output_type": "stream",
     "text": [
      "2/2 [==============================] - 0s 3ms/step\n"
     ]
    },
    {
     "data": {
      "image/png": "[encoded data removed]",
      "text/plain": [
       "<Figure size 640x480 with 1 Axes>"
      ]
     },
     "metadata": {},
     "output_type": "display_data"
    }
   ],
   "source": [
    "pred = model.predict(inputs_test)\n",
    "H = entropy(pred, base=2, axis=1)\n",
    "plt.hist(H, bins=10)\n",
    "plt.xlabel(\"Shannon Entropy of the softmaxes\")\n",
    "plt.ylabel(\"Histogram\")\n",
    "plt.show()"
   ]
  },
  {
   "cell_type": "code",
   "execution_count": 11,
   "id": "4a17eee0-27ec-4ac3-a132-2a27b4681435",
   "metadata": {},
   "outputs": [
    {
     "name": "stdout",
     "output_type": "stream",
     "text": [
      "<bound method NDFrame.head of       aX    aY    aZ      gX      gY      gZ    mX     mY     mZ\n",
      "1   0.19 -1.04  0.76  -71.35   -8.79   48.83  7.41  33.26 -37.32\n",
      "2   0.33 -0.74  0.39  -79.71  -17.21   65.06  8.13  33.41 -36.77\n",
      "3   0.29 -0.77  0.42  -63.96  -34.06   90.94  7.73  34.27 -36.43\n",
      "4   0.26 -0.96  0.46  -54.99  -21.79  116.88  7.71  34.00 -36.19\n",
      "5   0.29 -0.81  0.38  -86.18  -42.97  110.72  6.81  34.12 -35.51\n",
      "6   0.37 -1.09  0.32  -88.81  -76.48   90.27  5.20  33.76 -37.84\n",
      "7   0.55 -1.44  0.23 -102.17 -101.26   83.86  3.23  32.03 -40.50\n",
      "8   0.51 -1.39  0.22 -112.12 -106.81   77.39  5.02  31.27 -43.32\n",
      "9   0.54 -1.05  0.22 -116.03 -124.39   48.16  6.73  25.70 -45.90\n",
      "10  0.35 -1.09  0.29 -137.45 -150.94    4.15  5.04  19.79 -47.24\n",
      "11  0.29 -0.72  0.23 -143.74  -88.99   -7.14  1.06  14.58 -49.02\n",
      "12  0.12 -0.69  0.08 -122.62  -17.64  -26.37 -3.25   8.18 -43.80\n",
      "13 -0.28 -0.43  0.21  -72.57  152.83 -161.68 -6.03   2.06 -41.11\n",
      "14 -0.57  0.13  0.28  129.58  -10.38   31.25 -4.98  -3.55 -38.34\n",
      "15 -0.69  0.66  0.46   11.78  -34.18  108.95 -4.50  -6.59 -36.34\n",
      "16 -0.59  1.15  0.81   21.85   -9.03   20.63 -1.65 -10.67 -32.21\n",
      "17  0.59  1.82  0.59   -7.45   15.75  -21.18 -3.03  -9.92 -32.32\n",
      "18 -0.39  0.27  0.45    9.89   14.59  -25.39 -6.16  -8.91 -31.29\n",
      "19 -0.19  0.56  0.84   21.48    7.51   17.33 -7.02  -8.67 -31.15\n",
      "20 -0.10  0.34  0.80    8.24    2.93   20.69 -5.25 -10.35 -30.08\n",
      "21 -0.16  0.70  0.77    5.19    2.08   -3.23 -3.37 -11.90 -30.35\n",
      "22 -0.18  0.64  0.71    7.14    6.10  -10.31 -3.25 -12.10 -30.55\n",
      "23 -0.20  0.70  0.68   23.80    6.96    3.48 -3.89 -10.68 -29.60\n",
      "24 -0.21  0.68  0.71   32.10   14.16    8.85 -4.87 -10.19 -31.09\n",
      "25 -0.18  0.67  0.73   28.26   18.98    3.85 -4.74 -10.86 -30.90\n",
      "26 -0.19  0.60  0.75   23.32   16.91   -1.59 -4.02 -10.23 -31.70\n",
      "27 -0.19  0.60  0.76   21.18    2.38   15.50 -3.99  -9.88 -32.31\n",
      "28 -0.20  0.61  0.76   18.19   17.76   17.82 -3.92  -9.95 -32.34\n",
      "29 -0.18  0.63  0.76    6.84   14.53   10.62 -4.19  -9.30 -32.85\n",
      "30 -0.21  0.57  0.76   -1.53    5.07   -0.73 -4.66  -9.02 -33.37>\n",
      "1/1 [==============================] - 0s 25ms/step\n",
      "Predicted Gestures: ['backhand']\n"
     ]
    }
   ],
   "source": [
    "def preprocess_custom_data(csv_file):\n",
    "    df = pd.read_csv(csv_file, names=['aX', 'aY', 'aZ', 'gX', 'gY', 'gZ', 'mX', 'mY', 'mZ'], header=None)\n",
    "    df = df.apply(pd.to_numeric, errors='coerce')\n",
    "    df.dropna(inplace=True)\n",
    "    print(df.head)\n",
    "    \n",
    "    SAMPLES_PER_GESTURE = 30\n",
    "    num_recordings = df.shape[0] // SAMPLES_PER_GESTURE\n",
    "\n",
    "    inputs = []\n",
    "    for i in range(num_recordings):\n",
    "        index = i * SAMPLES_PER_GESTURE\n",
    "        X = df['aX'][index: index + SAMPLES_PER_GESTURE].values\n",
    "        Y = df['aY'][index: index + SAMPLES_PER_GESTURE].values\n",
    "        Z = df['aZ'][index: index + SAMPLES_PER_GESTURE].values\n",
    "\n",
    "        gX = df['gX'][index: index + SAMPLES_PER_GESTURE].values\n",
    "        gY = df['gY'][index: index + SAMPLES_PER_GESTURE].values\n",
    "        gZ = df['gZ'][index: index + SAMPLES_PER_GESTURE].values\n",
    "\n",
    "        mX = df['mX'][index: index + SAMPLES_PER_GESTURE].values\n",
    "        mY = df['mY'][index: index + SAMPLES_PER_GESTURE].values\n",
    "        mZ = df['mZ'][index: index + SAMPLES_PER_GESTURE].values\n",
    "\n",
    "        tensor = np.vstack((X, Y, Z, gX, gY, gZ, mX, mY, mZ)).transpose()\n",
    "        inputs.append(tensor)\n",
    "\n",
    "    return np.array(inputs)\n",
    "\n",
    "custom_data = preprocess_custom_data(\"./TT_DataCollector/TestData.csv\")\n",
    "\n",
    "predictions = model.predict(custom_data)\n",
    "\n",
    "predicted_classes = np.argmax(predictions, axis=1)\n",
    "GESTURES = [\"forehand\", \"backhand\", \"idle\"]\n",
    "\n",
    "predicted_labels = [GESTURES[i] for i in predicted_classes]\n",
    "\n",
    "print(\"Predicted Gestures:\", predicted_labels)"
   ]
  },
  {
   "cell_type": "code",
   "execution_count": 12,
   "id": "af607e2c-bb59-44d1-ba47-70a8c06bf037",
   "metadata": {},
   "outputs": [
    {
     "name": "stdout",
     "output_type": "stream",
     "text": [
      "INFO:tensorflow:Assets written to: C:\\Users\\yashn\\AppData\\Local\\Temp\\tmpnh12822k\\assets\n"
     ]
    },
    {
     "name": "stderr",
     "output_type": "stream",
     "text": [
      "INFO:tensorflow:Assets written to: C:\\Users\\yashn\\AppData\\Local\\Temp\\tmpnh12822k\\assets\n"
     ]
    },
    {
     "name": "stdout",
     "output_type": "stream",
     "text": [
      "INFO:tensorflow:Assets written to: C:\\Users\\yashn\\AppData\\Local\\Temp\\tmp6swwfvyq\\assets\n"
     ]
    },
    {
     "name": "stderr",
     "output_type": "stream",
     "text": [
      "INFO:tensorflow:Assets written to: C:\\Users\\yashn\\AppData\\Local\\Temp\\tmp6swwfvyq\\assets\n"
     ]
    },
    {
     "data": {
      "text/plain": [
       "3688"
      ]
     },
     "execution_count": 12,
     "metadata": {},
     "output_type": "execute_result"
    }
   ],
   "source": [
    "converter = tf.lite.TFLiteConverter.from_keras_model(model)\n",
    "tflite_model = converter.convert()\n",
    "\n",
    "open(\"gesture_model.tflite\", \"wb\").write(tflite_model)\n",
    "\n",
    "converter = tf.lite.TFLiteConverter.from_keras_model(model)\n",
    "converter.optimizations = [tf.lite.Optimize.DEFAULT]\n",
    "tflite_model = converter.convert()\n",
    "\n",
    "open(\"gesture_model_quantized.tflite\", \"wb\").write(tflite_model)"
   ]
  },
  {
   "cell_type": "code",
   "execution_count": 13,
   "id": "19711c8c-54f6-44c7-9b59-b78cad362337",
   "metadata": {},
   "outputs": [
    {
     "name": "stdout",
     "output_type": "stream",
     "text": [
      "Header file model.h has been created.\n"
     ]
    }
   ],
   "source": [
    "with open('gesture_model_quantized.tflite', 'rb') as f:\n",
    "    tflite_model_data = f.read()\n",
    "\n",
    "header_file = 'model.h'\n",
    "with open(header_file, 'w') as h_file:\n",
    "    h_file.write('#ifndef MODEL_H\\n')\n",
    "    h_file.write('#define MODEL_H\\n\\n')\n",
    "    h_file.write('unsigned char gesture_model_quantized_tflite[] = {\\n')\n",
    "    \n",
    "    h_file.write(', '.join([f'0x{byte:02x}' for byte in tflite_model_data]))\n",
    "    \n",
    "    h_file.write('\\n};\\n\\n')\n",
    "    h_file.write('#endif  // MODEL_H\\n')\n",
    "\n",
    "print(f'Header file {header_file} has been created.')\n"
   ]
  }
 ],
 "metadata": {
  "kernelspec": {
   "display_name": "Python 3 (ipykernel)",
   "language": "python",
   "name": "python3"
  },
  "language_info": {
   "codemirror_mode": {
    "name": "ipython",
    "version": 3
   },
   "file_extension": ".py",
   "mimetype": "text/x-python",
   "name": "python",
   "nbconvert_exporter": "python",
   "pygments_lexer": "ipython3",
   "version": "3.9.5"
  }
 },
 "nbformat": 4,
 "nbformat_minor": 5
}
